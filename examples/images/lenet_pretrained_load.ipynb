{
 "cells": [
  {
   "cell_type": "code",
   "execution_count": 1,
   "metadata": {},
   "outputs": [],
   "source": [
    "from torchcfm.models.mnist_classifier.lenet import LeNet5\n",
    "import torch\n",
    "import torch.nn as nn\n",
    "import torch.optim as optim\n",
    "from torchvision.datasets.mnist import MNIST\n",
    "import torchvision.transforms as transforms\n",
    "from torch.utils.data import DataLoader\n",
    "import numpy as np"
   ]
  },
  {
   "cell_type": "markdown",
   "metadata": {},
   "source": [
    "# load model"
   ]
  },
  {
   "cell_type": "code",
   "execution_count": 3,
   "metadata": {},
   "outputs": [],
   "source": [
    "def load_mnist_classifier(device: torch.device | None = None):\n",
    "    if device is None: device = torch.get_default_device()  \n",
    "    net = LeNet5().eval()\n",
    "    net.load_state_dict(torch.load('../../torchcfm/models/mnist_classifier/weights/lenet_epoch=12_test_acc=0.991.pth'))\n",
    "    net = net.to(device)\n",
    "    return net\n",
    "\n",
    "\n",
    "net = load_mnist_classifier()"
   ]
  },
  {
   "cell_type": "markdown",
   "metadata": {},
   "source": [
    "# load mnist test set"
   ]
  },
  {
   "cell_type": "code",
   "execution_count": 4,
   "metadata": {},
   "outputs": [],
   "source": [
    "data_root = '../data/'\n",
    "data_test = MNIST(\n",
    "    data_root,\n",
    "    train=False,\n",
    "    download=True,\n",
    "    transform=transforms.Compose([\n",
    "        transforms.Resize((32, 32)),\n",
    "        transforms.ToTensor()\n",
    "    ])\n",
    ")\n",
    "data_loader = torch.utils.data.DataLoader(data_test, \n",
    "                                          batch_size=10000,\n",
    "                                          shuffle=False)\n",
    "(ims, labs) = next(iter(data_loader)) # get whole dataset"
   ]
  },
  {
   "cell_type": "code",
   "execution_count": 11,
   "metadata": {},
   "outputs": [
    {
     "data": {
      "text/plain": [
       "tensor(0.)"
      ]
     },
     "execution_count": 11,
     "metadata": {},
     "output_type": "execute_result"
    }
   ],
   "source": [
    "ims[0].min()"
   ]
  },
  {
   "cell_type": "markdown",
   "metadata": {},
   "source": [
    "# calculate test acc"
   ]
  },
  {
   "cell_type": "code",
   "execution_count": 5,
   "metadata": {},
   "outputs": [
    {
     "name": "stdout",
     "output_type": "stream",
     "text": [
      "Total acc: 0.9907\n",
      "Class 0 acc: 0.9969\n",
      "Class 1 acc: 0.9956\n",
      "Class 2 acc: 0.9893\n",
      "Class 3 acc: 0.9931\n",
      "Class 4 acc: 0.9888\n",
      "Class 5 acc: 0.9865\n",
      "Class 6 acc: 0.9896\n",
      "Class 7 acc: 0.9922\n",
      "Class 8 acc: 0.9846\n",
      "Class 9 acc: 0.9891\n"
     ]
    }
   ],
   "source": [
    "@torch.inference_mode()\n",
    "def mnist_acc(net, ims, labs):\n",
    "    preds = net(ims)\n",
    "    class_preds = torch.argmax(preds, dim=1)\n",
    "    return torch.sum(class_preds == labs).float() / len(labs)\n",
    "\n",
    "\n",
    "@torch.inference_mode()\n",
    "def mnist_acc_per_class(net, ims, labs, num_classes=10):\n",
    "    \"\"\"\n",
    "    Compute per-class accuracy for MNIST-style classification.\n",
    "\n",
    "    Args:\n",
    "        net: classifier network\n",
    "        ims: input images [N,C,H,W]\n",
    "        labs: ground truth labels [N]\n",
    "        num_classes: number of classes (default=10 for MNIST)\n",
    "    Returns:\n",
    "        dict {class_idx: accuracy (0..1)}\n",
    "    \"\"\"\n",
    "    preds = net(ims)\n",
    "    class_preds = torch.argmax(preds, dim=1)\n",
    "\n",
    "    accs = {}\n",
    "    for c in range(num_classes):\n",
    "        mask = (labs == c)\n",
    "        if mask.sum() > 0:\n",
    "            correct = (class_preds[mask] == labs[mask]).sum().float()\n",
    "            accs[c] = (correct / mask.sum()).item()\n",
    "        else:\n",
    "            accs[c] = float(\"nan\")  # no samples of this class\n",
    "    return accs\n",
    "\n",
    "    \n",
    "\n",
    "print(f\"Total acc: {mnist_acc(net, ims, labs):.4f}\")\n",
    "for c, acc in mnist_acc_per_class(net, ims, labs).items():\n",
    "    print(f\"Class {c} acc: {acc:.4f}\")\n"
   ]
  },
  {
   "cell_type": "markdown",
   "metadata": {},
   "source": [
    "# Generate digits"
   ]
  },
  {
   "cell_type": "code",
   "execution_count": null,
   "metadata": {},
   "outputs": [],
   "source": [
    "from torchdiffeq import odeint\n",
    "\n",
    "\n",
    "@torch.inference_mode()\n",
    "def generate_mnist_testset(model, n: int = 1000):\n",
    "    generated_class_list = torch.arange(10).repeat(n)\n",
    "    return odeint(\n",
    "        lambda t, x: model.forward(t, x, generated_class_list),\n",
    "            torch.randn(n, 1, 28, 28),\n",
    "            torch.linspace(0, 1, 2),\n",
    "            atol=1e-4,\n",
    "            rtol=1e-4,\n",
    "            method=\"dopri5\",\n",
    "    )[-1]"
   ]
  },
  {
   "cell_type": "markdown",
   "metadata": {},
   "source": [
    "# Summary"
   ]
  },
  {
   "cell_type": "code",
   "execution_count": null,
   "metadata": {},
   "outputs": [],
   "source": [
    "def load_mnist_classifier(device: torch.device | None = None):\n",
    "    if device is None: device = torch.get_default_device()  \n",
    "    net = LeNet5().eval()\n",
    "    net.load_state_dict(torch.load('../../torchcfm/models/mnist_classifier/weights/lenet_epoch=12_test_acc=0.991.pth'))\n",
    "    net = net.to(device)\n",
    "    return net\n",
    "\n",
    "\n",
    "@torch.inference_mode()\n",
    "def mnist_acc(net, ims, labs):\n",
    "    preds = net(ims)\n",
    "    class_preds = torch.argmax(preds, dim=1)\n",
    "    return torch.sum(class_preds == labs).float() / len(labs)\n",
    "\n",
    "\n",
    "@torch.inference_mode()\n",
    "def mnist_acc_per_class(net, ims, labs, num_classes=10):\n",
    "    \"\"\"\n",
    "    Compute per-class accuracy for MNIST-style classification.\n",
    "\n",
    "    Args:\n",
    "        net: classifier network\n",
    "        ims: input images [N,C,H,W]\n",
    "        labs: ground truth labels [N]\n",
    "        num_classes: number of classes (default=10 for MNIST)\n",
    "    Returns:\n",
    "        dict {class_idx: accuracy (0..1)}\n",
    "    \"\"\"\n",
    "    preds = net(ims)\n",
    "    class_preds = torch.argmax(preds, dim=1)\n",
    "\n",
    "    accs = {}\n",
    "    for c in range(num_classes):\n",
    "        mask = (labs == c)\n",
    "        if mask.sum() > 0:\n",
    "            correct = (class_preds[mask] == labs[mask]).sum().float()\n",
    "            accs[c] = (correct / mask.sum()).item()\n",
    "        else:\n",
    "            accs[c] = float(\"nan\")  # no samples of this class\n",
    "    return accs\n",
    "\n",
    "\n",
    "@torch.inference_mode()\n",
    "def generate_mnist_testset(model, n: int = 1000):\n",
    "    generated_class_list = torch.arange(10).repeat(n)\n",
    "    return odeint(\n",
    "        lambda t, x: model.forward(t, x, generated_class_list),\n",
    "            torch.randn(n, 1, 28, 28),\n",
    "            torch.linspace(0, 1, 2),\n",
    "            atol=1e-4,\n",
    "            rtol=1e-4,\n",
    "            method=\"dopri5\",\n",
    "    )[-1]"
   ]
  }
 ],
 "metadata": {
  "kernelspec": {
   "display_name": ".venv",
   "language": "python",
   "name": "python3"
  },
  "language_info": {
   "codemirror_mode": {
    "name": "ipython",
    "version": 3
   },
   "file_extension": ".py",
   "mimetype": "text/x-python",
   "name": "python",
   "nbconvert_exporter": "python",
   "pygments_lexer": "ipython3",
   "version": "3.10.18"
  }
 },
 "nbformat": 4,
 "nbformat_minor": 2
}
